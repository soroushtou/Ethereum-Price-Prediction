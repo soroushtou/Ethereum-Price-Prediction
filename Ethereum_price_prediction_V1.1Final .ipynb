{
  "nbformat": 4,
  "nbformat_minor": 0,
  "metadata": {
    "colab": {
      "name": "Copy_of_Ethereum_price_prediction_V1_1.ipynb",
      "provenance": [],
      "collapsed_sections": []
    },
    "kernelspec": {
      "name": "python3",
      "display_name": "Python 3"
    },
    "language_info": {
      "name": "python"
    }
  },
  "cells": [
    {
      "cell_type": "code",
      "metadata": {
        "colab": {
          "base_uri": "https://localhost:8080/"
        },
        "id": "6mWLKXySxHHt",
        "outputId": "e5c0bd04-7419-4fc6-926c-e4748037ac32"
      },
      "source": [
        "#project Ethereum price prediction V1.1\n",
        "!pip3 install ann_visualizer\n",
        "!pip install graphviz\n",
        "import requests\n",
        "import math\n",
        "import matplotlib.pyplot as plt\n",
        "import keras\n",
        "import pandas as pd\n",
        "import numpy as np\n",
        "from keras.models import Sequential\n",
        "from keras.layers import Dense\n",
        "from keras.layers import LSTM\n",
        "from keras.layers import Dropout\n",
        "from keras.layers import *\n",
        "from sklearn.preprocessing import MinMaxScaler\n",
        "from sklearn.metrics import mean_squared_error\n",
        "from sklearn.metrics import mean_absolute_error\n",
        "from sklearn.model_selection import train_test_split\n",
        "from keras.callbacks import EarlyStopping\n",
        "from google.colab import drive\n",
        "from ann_visualizer.visualize import ann_viz;"
      ],
      "execution_count": null,
      "outputs": [
        {
          "output_type": "stream",
          "text": [
            "Requirement already satisfied: ann_visualizer in /usr/local/lib/python3.7/dist-packages (2.5)\n",
            "Requirement already satisfied: graphviz in /usr/local/lib/python3.7/dist-packages (0.10.1)\n"
          ],
          "name": "stdout"
        }
      ]
    },
    {
      "cell_type": "code",
      "metadata": {
        "colab": {
          "base_uri": "https://localhost:8080/",
          "height": 436
        },
        "id": "J3tdwVGuxgl9",
        "outputId": "91453135-6e65-4d36-ee5f-e55d4a8941b8"
      },
      "source": [
        "drive.mount('/content/gdrive')\n",
        "csv_name = \"Ethereum_Historical_Data.csv\"\n",
        "df=pd.read_csv('gdrive/MyDrive/Datasets/'+csv_name)\n",
        "df"
      ],
      "execution_count": null,
      "outputs": [
        {
          "output_type": "stream",
          "text": [
            "Drive already mounted at /content/gdrive; to attempt to forcibly remount, call drive.mount(\"/content/gdrive\", force_remount=True).\n"
          ],
          "name": "stdout"
        },
        {
          "output_type": "execute_result",
          "data": {
            "text/html": [
              "<div>\n",
              "<style scoped>\n",
              "    .dataframe tbody tr th:only-of-type {\n",
              "        vertical-align: middle;\n",
              "    }\n",
              "\n",
              "    .dataframe tbody tr th {\n",
              "        vertical-align: top;\n",
              "    }\n",
              "\n",
              "    .dataframe thead th {\n",
              "        text-align: right;\n",
              "    }\n",
              "</style>\n",
              "<table border=\"1\" class=\"dataframe\">\n",
              "  <thead>\n",
              "    <tr style=\"text-align: right;\">\n",
              "      <th></th>\n",
              "      <th>Date</th>\n",
              "      <th>Price</th>\n",
              "      <th>Open</th>\n",
              "      <th>High</th>\n",
              "      <th>Low</th>\n",
              "      <th>Vol.</th>\n",
              "      <th>Change %</th>\n",
              "    </tr>\n",
              "  </thead>\n",
              "  <tbody>\n",
              "    <tr>\n",
              "      <th>0</th>\n",
              "      <td>Mar 10, 2016</td>\n",
              "      <td>11.75</td>\n",
              "      <td>11.20</td>\n",
              "      <td>11.85</td>\n",
              "      <td>11.07</td>\n",
              "      <td>0.00K</td>\n",
              "      <td>4.91%</td>\n",
              "    </tr>\n",
              "    <tr>\n",
              "      <th>1</th>\n",
              "      <td>Mar 11, 2016</td>\n",
              "      <td>11.95</td>\n",
              "      <td>11.75</td>\n",
              "      <td>11.95</td>\n",
              "      <td>11.75</td>\n",
              "      <td>0.18K</td>\n",
              "      <td>1.70%</td>\n",
              "    </tr>\n",
              "    <tr>\n",
              "      <th>2</th>\n",
              "      <td>Mar 12, 2016</td>\n",
              "      <td>12.92</td>\n",
              "      <td>11.95</td>\n",
              "      <td>13.45</td>\n",
              "      <td>11.95</td>\n",
              "      <td>0.83K</td>\n",
              "      <td>8.12%</td>\n",
              "    </tr>\n",
              "    <tr>\n",
              "      <th>3</th>\n",
              "      <td>Mar 13, 2016</td>\n",
              "      <td>15.07</td>\n",
              "      <td>12.92</td>\n",
              "      <td>15.07</td>\n",
              "      <td>12.92</td>\n",
              "      <td>1.30K</td>\n",
              "      <td>16.64%</td>\n",
              "    </tr>\n",
              "    <tr>\n",
              "      <th>4</th>\n",
              "      <td>Mar 14, 2016</td>\n",
              "      <td>12.50</td>\n",
              "      <td>15.07</td>\n",
              "      <td>15.07</td>\n",
              "      <td>11.40</td>\n",
              "      <td>92.18K</td>\n",
              "      <td>-17.05%</td>\n",
              "    </tr>\n",
              "    <tr>\n",
              "      <th>...</th>\n",
              "      <td>...</td>\n",
              "      <td>...</td>\n",
              "      <td>...</td>\n",
              "      <td>...</td>\n",
              "      <td>...</td>\n",
              "      <td>...</td>\n",
              "      <td>...</td>\n",
              "    </tr>\n",
              "    <tr>\n",
              "      <th>1885</th>\n",
              "      <td>May 08, 2021</td>\n",
              "      <td>3,905.55</td>\n",
              "      <td>3,479.81</td>\n",
              "      <td>3,952.88</td>\n",
              "      <td>3,453.37</td>\n",
              "      <td>1.34M</td>\n",
              "      <td>12.19%</td>\n",
              "    </tr>\n",
              "    <tr>\n",
              "      <th>1886</th>\n",
              "      <td>May 09, 2021</td>\n",
              "      <td>3,922.23</td>\n",
              "      <td>3,905.69</td>\n",
              "      <td>3,979.77</td>\n",
              "      <td>3,734.44</td>\n",
              "      <td>1.94M</td>\n",
              "      <td>0.43%</td>\n",
              "    </tr>\n",
              "    <tr>\n",
              "      <th>1887</th>\n",
              "      <td>May 10, 2021</td>\n",
              "      <td>3,947.90</td>\n",
              "      <td>3,923.48</td>\n",
              "      <td>4,203.98</td>\n",
              "      <td>3,669.84</td>\n",
              "      <td>2.70M</td>\n",
              "      <td>0.65%</td>\n",
              "    </tr>\n",
              "    <tr>\n",
              "      <th>1888</th>\n",
              "      <td>May 11, 2021</td>\n",
              "      <td>4,167.78</td>\n",
              "      <td>3,948.66</td>\n",
              "      <td>4,177.53</td>\n",
              "      <td>3,781.86</td>\n",
              "      <td>1.27M</td>\n",
              "      <td>5.57%</td>\n",
              "    </tr>\n",
              "    <tr>\n",
              "      <th>1889</th>\n",
              "      <td>May 12, 2021</td>\n",
              "      <td>4,241.19</td>\n",
              "      <td>4,173.61</td>\n",
              "      <td>4,366.10</td>\n",
              "      <td>4,151.39</td>\n",
              "      <td>2.20M</td>\n",
              "      <td>1.76%</td>\n",
              "    </tr>\n",
              "  </tbody>\n",
              "</table>\n",
              "<p>1890 rows × 7 columns</p>\n",
              "</div>"
            ],
            "text/plain": [
              "              Date     Price      Open      High       Low    Vol. Change %\n",
              "0     Mar 10, 2016     11.75     11.20     11.85     11.07   0.00K    4.91%\n",
              "1     Mar 11, 2016     11.95     11.75     11.95     11.75   0.18K    1.70%\n",
              "2     Mar 12, 2016     12.92     11.95     13.45     11.95   0.83K    8.12%\n",
              "3     Mar 13, 2016     15.07     12.92     15.07     12.92   1.30K   16.64%\n",
              "4     Mar 14, 2016     12.50     15.07     15.07     11.40  92.18K  -17.05%\n",
              "...            ...       ...       ...       ...       ...     ...      ...\n",
              "1885  May 08, 2021  3,905.55  3,479.81  3,952.88  3,453.37   1.34M   12.19%\n",
              "1886  May 09, 2021  3,922.23  3,905.69  3,979.77  3,734.44   1.94M    0.43%\n",
              "1887  May 10, 2021  3,947.90  3,923.48  4,203.98  3,669.84   2.70M    0.65%\n",
              "1888  May 11, 2021  4,167.78  3,948.66  4,177.53  3,781.86   1.27M    5.57%\n",
              "1889  May 12, 2021  4,241.19  4,173.61  4,366.10  4,151.39   2.20M    1.76%\n",
              "\n",
              "[1890 rows x 7 columns]"
            ]
          },
          "metadata": {
            "tags": []
          },
          "execution_count": 42
        }
      ]
    },
    {
      "cell_type": "code",
      "metadata": {
        "colab": {
          "base_uri": "https://localhost:8080/"
        },
        "id": "HgqRBQLsxitG",
        "outputId": "6cbb351a-521d-48d6-fffc-d44feb817978"
      },
      "source": [
        "df.isnull().sum() #agar data null dasht , namayesh bede"
      ],
      "execution_count": null,
      "outputs": [
        {
          "output_type": "execute_result",
          "data": {
            "text/plain": [
              "Date        0\n",
              "Price       0\n",
              "Open        0\n",
              "High        0\n",
              "Low         0\n",
              "Vol.        0\n",
              "Change %    0\n",
              "dtype: int64"
            ]
          },
          "metadata": {
            "tags": []
          },
          "execution_count": 43
        }
      ]
    },
    {
      "cell_type": "code",
      "metadata": {
        "colab": {
          "base_uri": "https://localhost:8080/"
        },
        "id": "kWUZoBREx-Ct",
        "outputId": "90280921-4ab2-4cb1-8613-a9fd9f1f1d16"
      },
      "source": [
        "#Dataset Correction\n",
        "X = df.copy()\n",
        "X = X.drop(columns = ['Date'])  #format Date monaseb nist , hazfesh mikonim\n",
        "X = X.drop(columns = ['Change %'])  #taghirat haman gheymt hast\n",
        "n_rows = X.shape[0]\n",
        "#in ghesmat <<,>> virgol haye mojood dar adad haye dataset ra hazf mikonad\n",
        "X['Price'] = X['Price'].str.replace(',','')\n",
        "X['Open'] = X['Open'].str.replace(',','')\n",
        "X['High'] = X['High'].str.replace(',','')\n",
        "X['Low'] = X['Low'].str.replace(',','')\n",
        "\n",
        "def value_to_float(x):\n",
        "    if type(x) == float or type(x) == int:\n",
        "        return x\n",
        "    if 'K' in x:\n",
        "        if len(x) > 1:\n",
        "            return str(float(x.replace('K', '')) * 1000)\n",
        "        return 1000.0\n",
        "    if 'M' in x:\n",
        "        if len(x) > 1:\n",
        "            return str(float(x.replace('M', '')) * 1000000)\n",
        "        return 1000000.0\n",
        "\n",
        "X['Vol.'] = X['Vol.'].apply(value_to_float)\n",
        "#X.corr()\n",
        "print(X.shape)\n",
        "print(X)"
      ],
      "execution_count": null,
      "outputs": [
        {
          "output_type": "stream",
          "text": [
            "(1890, 5)\n",
            "        Price     Open     High      Low       Vol.\n",
            "0       11.75    11.20    11.85    11.07        0.0\n",
            "1       11.95    11.75    11.95    11.75      180.0\n",
            "2       12.92    11.95    13.45    11.95      830.0\n",
            "3       15.07    12.92    15.07    12.92     1300.0\n",
            "4       12.50    15.07    15.07    11.40    92180.0\n",
            "...       ...      ...      ...      ...        ...\n",
            "1885  3905.55  3479.81  3952.88  3453.37  1340000.0\n",
            "1886  3922.23  3905.69  3979.77  3734.44  1940000.0\n",
            "1887  3947.90  3923.48  4203.98  3669.84  2700000.0\n",
            "1888  4167.78  3948.66  4177.53  3781.86  1270000.0\n",
            "1889  4241.19  4173.61  4366.10  4151.39  2200000.0\n",
            "\n",
            "[1890 rows x 5 columns]\n"
          ],
          "name": "stdout"
        }
      ]
    },
    {
      "cell_type": "code",
      "metadata": {
        "colab": {
          "base_uri": "https://localhost:8080/"
        },
        "id": "gLtmIjRr4Rke",
        "outputId": "d364eecb-9f90-4b79-82fe-5b8a4906bec0"
      },
      "source": [
        "train_test_ratio = 0.95\n",
        "X = X.drop(columns = ['High','Low','Open','Vol.'])\n",
        "training_set = X[:int(train_test_ratio*n_rows)]\n",
        "test_set = X[int(train_test_ratio*n_rows):]\n",
        "print(\"Training Set:\",training_set.shape)\n",
        "print(training_set.tail())\n",
        "print(\"Testing Set: \",test_set.shape)\n",
        "print(test_set.tail())"
      ],
      "execution_count": null,
      "outputs": [
        {
          "output_type": "stream",
          "text": [
            "Training Set: (1795, 1)\n",
            "        Price\n",
            "1790  1511.36\n",
            "1791  1664.34\n",
            "1792  1594.00\n",
            "1793  1719.20\n",
            "1794  1676.63\n",
            "Testing Set:  (95, 1)\n",
            "        Price\n",
            "1885  3905.55\n",
            "1886  3922.23\n",
            "1887  3947.90\n",
            "1888  4167.78\n",
            "1889  4241.19\n"
          ],
          "name": "stdout"
        }
      ]
    },
    {
      "cell_type": "code",
      "metadata": {
        "colab": {
          "base_uri": "https://localhost:8080/"
        },
        "id": "JZoSQEOllMby",
        "outputId": "9cee4246-30ce-4ed1-ff91-75e4256ad913"
      },
      "source": [
        "\n",
        "time_series_number = 5\n",
        "# Feature Scaling\n",
        "sc = MinMaxScaler(feature_range = (0, 1))\n",
        "training_set_scaled = sc.fit_transform(training_set)\n",
        "print(training_set_scaled.shape)\n",
        "# Creating a data structure with k=time_series_number time-steps and 1 output\n",
        "X_train = []\n",
        "y_train = []\n",
        "for i in range(time_series_number, int(train_test_ratio*n_rows)):\n",
        "    X_train.append(training_set_scaled[i-time_series_number:i, 0])\n",
        "    y_train.append(training_set_scaled[i, 0])\n",
        "X_train, y_train = np.array(X_train), np.array(y_train)\n",
        "X_train = np.reshape(X_train, (X_train.shape[0], X_train.shape[1], 1))\n",
        "print(X_train.shape)\n",
        "print(X_train[0:5])"
      ],
      "execution_count": null,
      "outputs": [
        {
          "output_type": "stream",
          "text": [
            "(1795, 1)\n",
            "(1790, 5, 1)\n",
            "[[[0.00294891]\n",
            "  [0.00306569]\n",
            "  [0.00363212]\n",
            "  [0.00488759]\n",
            "  [0.00338686]]\n",
            "\n",
            " [[0.00306569]\n",
            "  [0.00363212]\n",
            "  [0.00488759]\n",
            "  [0.00338686]\n",
            "  [0.00371387]]\n",
            "\n",
            " [[0.00363212]\n",
            "  [0.00488759]\n",
            "  [0.00338686]\n",
            "  [0.00371387]\n",
            "  [0.00360876]]\n",
            "\n",
            " [[0.00488759]\n",
            "  [0.00338686]\n",
            "  [0.00371387]\n",
            "  [0.00360876]\n",
            "  [0.00235912]]\n",
            "\n",
            " [[0.00338686]\n",
            "  [0.00371387]\n",
            "  [0.00360876]\n",
            "  [0.00235912]\n",
            "  [0.00235912]]]\n"
          ],
          "name": "stdout"
        }
      ]
    },
    {
      "cell_type": "code",
      "metadata": {
        "colab": {
          "base_uri": "https://localhost:8080/"
        },
        "id": "NLv686URpIt6",
        "outputId": "b91ec819-0be3-4c48-c493-8130e021ecfa"
      },
      "source": [
        "print((X_train.shape[1],1))\n",
        "model = Sequential()\n",
        "#Adding the first LSTM layer and some Dropout regularisation\n",
        "model.add(LSTM(units = 100, return_sequences = True, input_shape = (X_train.shape[1], 1)))\n",
        "model.add(Dropout(0.2))\n",
        "# Adding a second LSTM layer and some Dropout regularisation\n",
        "model.add(LSTM(units = 100, return_sequences = True))\n",
        "model.add(Dropout(0.2))\n",
        "# Adding a third LSTM layer and some Dropout regularisation\n",
        "model.add(LSTM(units = 100, return_sequences = True))\n",
        "model.add(Dropout(0.2))\n",
        "# Adding a fourth LSTM layer and some Dropout regularisation\n",
        "model.add(LSTM(units = 100))\n",
        "model.add(Dropout(0.2))\n",
        "# Adding the output layer\n",
        "model.add(Dense(units = 1))\n",
        "\n",
        "# Compiling the RNN\n",
        "optimizer = keras.optimizers.Adam(learning_rate=0.0005)\n",
        "model.compile(optimizer = optimizer, loss = 'mean_squared_error')\n",
        "model.summary()\n",
        "# Fitting the RNN to the Training set\n",
        "model.fit(X_train, y_train, epochs = 100, batch_size = 32)"
      ],
      "execution_count": null,
      "outputs": [
        {
          "output_type": "stream",
          "text": [
            "(5, 1)\n",
            "Model: \"sequential_4\"\n",
            "_________________________________________________________________\n",
            "Layer (type)                 Output Shape              Param #   \n",
            "=================================================================\n",
            "lstm_16 (LSTM)               (None, 5, 100)            40800     \n",
            "_________________________________________________________________\n",
            "dropout_16 (Dropout)         (None, 5, 100)            0         \n",
            "_________________________________________________________________\n",
            "lstm_17 (LSTM)               (None, 5, 100)            80400     \n",
            "_________________________________________________________________\n",
            "dropout_17 (Dropout)         (None, 5, 100)            0         \n",
            "_________________________________________________________________\n",
            "lstm_18 (LSTM)               (None, 5, 100)            80400     \n",
            "_________________________________________________________________\n",
            "dropout_18 (Dropout)         (None, 5, 100)            0         \n",
            "_________________________________________________________________\n",
            "lstm_19 (LSTM)               (None, 100)               80400     \n",
            "_________________________________________________________________\n",
            "dropout_19 (Dropout)         (None, 100)               0         \n",
            "_________________________________________________________________\n",
            "dense_4 (Dense)              (None, 1)                 101       \n",
            "=================================================================\n",
            "Total params: 282,101\n",
            "Trainable params: 282,101\n",
            "Non-trainable params: 0\n",
            "_________________________________________________________________\n",
            "Epoch 1/100\n",
            "56/56 [==============================] - 9s 23ms/step - loss: 0.0269\n",
            "Epoch 2/100\n",
            "56/56 [==============================] - 1s 23ms/step - loss: 0.0014\n",
            "Epoch 3/100\n",
            "56/56 [==============================] - 1s 23ms/step - loss: 0.0013\n",
            "Epoch 4/100\n",
            "56/56 [==============================] - 1s 23ms/step - loss: 0.0010\n",
            "Epoch 5/100\n",
            "56/56 [==============================] - 1s 23ms/step - loss: 0.0012\n",
            "Epoch 6/100\n",
            "56/56 [==============================] - 1s 23ms/step - loss: 0.0012\n",
            "Epoch 7/100\n",
            "56/56 [==============================] - 1s 23ms/step - loss: 0.0011\n",
            "Epoch 8/100\n",
            "56/56 [==============================] - 1s 22ms/step - loss: 0.0010\n",
            "Epoch 9/100\n",
            "56/56 [==============================] - 1s 22ms/step - loss: 8.7021e-04\n",
            "Epoch 10/100\n",
            "56/56 [==============================] - 1s 23ms/step - loss: 0.0011\n",
            "Epoch 11/100\n",
            "56/56 [==============================] - 1s 23ms/step - loss: 9.1798e-04\n",
            "Epoch 12/100\n",
            "56/56 [==============================] - 1s 22ms/step - loss: 0.0010\n",
            "Epoch 13/100\n",
            "56/56 [==============================] - 1s 22ms/step - loss: 9.5401e-04\n",
            "Epoch 14/100\n",
            "56/56 [==============================] - 1s 23ms/step - loss: 0.0012\n",
            "Epoch 15/100\n",
            "56/56 [==============================] - 1s 23ms/step - loss: 9.8736e-04\n",
            "Epoch 16/100\n",
            "56/56 [==============================] - 1s 23ms/step - loss: 0.0012\n",
            "Epoch 17/100\n",
            "56/56 [==============================] - 1s 23ms/step - loss: 0.0012\n",
            "Epoch 18/100\n",
            "56/56 [==============================] - 1s 23ms/step - loss: 9.5044e-04\n",
            "Epoch 19/100\n",
            "56/56 [==============================] - 1s 23ms/step - loss: 0.0010\n",
            "Epoch 20/100\n",
            "56/56 [==============================] - 1s 23ms/step - loss: 9.2303e-04\n",
            "Epoch 21/100\n",
            "56/56 [==============================] - 1s 23ms/step - loss: 0.0011\n",
            "Epoch 22/100\n",
            "56/56 [==============================] - 1s 23ms/step - loss: 7.9780e-04\n",
            "Epoch 23/100\n",
            "56/56 [==============================] - 1s 23ms/step - loss: 9.3121e-04\n",
            "Epoch 24/100\n",
            "56/56 [==============================] - 1s 23ms/step - loss: 0.0011\n",
            "Epoch 25/100\n",
            "56/56 [==============================] - 1s 23ms/step - loss: 9.5090e-04\n",
            "Epoch 26/100\n",
            "56/56 [==============================] - 1s 22ms/step - loss: 8.8392e-04\n",
            "Epoch 27/100\n",
            "56/56 [==============================] - 1s 22ms/step - loss: 7.9594e-04\n",
            "Epoch 28/100\n",
            "56/56 [==============================] - 1s 23ms/step - loss: 0.0010\n",
            "Epoch 29/100\n",
            "56/56 [==============================] - 1s 22ms/step - loss: 8.5433e-04\n",
            "Epoch 30/100\n",
            "56/56 [==============================] - 1s 23ms/step - loss: 8.6144e-04\n",
            "Epoch 31/100\n",
            "56/56 [==============================] - 1s 22ms/step - loss: 7.3412e-04\n",
            "Epoch 32/100\n",
            "56/56 [==============================] - 1s 23ms/step - loss: 8.5622e-04\n",
            "Epoch 33/100\n",
            "56/56 [==============================] - 1s 22ms/step - loss: 7.4366e-04\n",
            "Epoch 34/100\n",
            "56/56 [==============================] - 1s 23ms/step - loss: 9.4581e-04\n",
            "Epoch 35/100\n",
            "56/56 [==============================] - 1s 23ms/step - loss: 8.7076e-04\n",
            "Epoch 36/100\n",
            "56/56 [==============================] - 1s 23ms/step - loss: 8.9678e-04\n",
            "Epoch 37/100\n",
            "56/56 [==============================] - 1s 23ms/step - loss: 8.0610e-04\n",
            "Epoch 38/100\n",
            "56/56 [==============================] - 1s 22ms/step - loss: 0.0011\n",
            "Epoch 39/100\n",
            "56/56 [==============================] - 1s 23ms/step - loss: 8.8504e-04\n",
            "Epoch 40/100\n",
            "56/56 [==============================] - 1s 23ms/step - loss: 7.8067e-04\n",
            "Epoch 41/100\n",
            "56/56 [==============================] - 1s 23ms/step - loss: 6.8970e-04\n",
            "Epoch 42/100\n",
            "56/56 [==============================] - 1s 24ms/step - loss: 6.9328e-04\n",
            "Epoch 43/100\n",
            "56/56 [==============================] - 1s 22ms/step - loss: 7.5071e-04\n",
            "Epoch 44/100\n",
            "56/56 [==============================] - 1s 23ms/step - loss: 9.0702e-04\n",
            "Epoch 45/100\n",
            "56/56 [==============================] - 1s 22ms/step - loss: 7.7901e-04\n",
            "Epoch 46/100\n",
            "56/56 [==============================] - 1s 23ms/step - loss: 8.3769e-04\n",
            "Epoch 47/100\n",
            "56/56 [==============================] - 1s 23ms/step - loss: 5.7097e-04\n",
            "Epoch 48/100\n",
            "56/56 [==============================] - 1s 23ms/step - loss: 6.7910e-04\n",
            "Epoch 49/100\n",
            "56/56 [==============================] - 1s 22ms/step - loss: 8.8239e-04\n",
            "Epoch 50/100\n",
            "56/56 [==============================] - 1s 23ms/step - loss: 8.5712e-04\n",
            "Epoch 51/100\n",
            "56/56 [==============================] - 1s 23ms/step - loss: 6.9433e-04\n",
            "Epoch 52/100\n",
            "56/56 [==============================] - 1s 23ms/step - loss: 7.0970e-04\n",
            "Epoch 53/100\n",
            "56/56 [==============================] - 1s 23ms/step - loss: 6.8654e-04\n",
            "Epoch 54/100\n",
            "56/56 [==============================] - 1s 23ms/step - loss: 6.5488e-04\n",
            "Epoch 55/100\n",
            "56/56 [==============================] - 1s 23ms/step - loss: 9.3894e-04\n",
            "Epoch 56/100\n",
            "56/56 [==============================] - 1s 23ms/step - loss: 6.2679e-04\n",
            "Epoch 57/100\n",
            "56/56 [==============================] - 1s 23ms/step - loss: 5.9380e-04\n",
            "Epoch 58/100\n",
            "56/56 [==============================] - 1s 23ms/step - loss: 6.3013e-04\n",
            "Epoch 59/100\n",
            "56/56 [==============================] - 1s 23ms/step - loss: 5.1258e-04\n",
            "Epoch 60/100\n",
            "56/56 [==============================] - 1s 23ms/step - loss: 5.3894e-04\n",
            "Epoch 61/100\n",
            "56/56 [==============================] - 1s 23ms/step - loss: 6.1065e-04\n",
            "Epoch 62/100\n",
            "56/56 [==============================] - 1s 23ms/step - loss: 7.4006e-04\n",
            "Epoch 63/100\n",
            "56/56 [==============================] - 1s 23ms/step - loss: 5.2683e-04\n",
            "Epoch 64/100\n",
            "56/56 [==============================] - 1s 23ms/step - loss: 5.9752e-04\n",
            "Epoch 65/100\n",
            "56/56 [==============================] - 1s 24ms/step - loss: 4.8346e-04\n",
            "Epoch 66/100\n",
            "56/56 [==============================] - 1s 24ms/step - loss: 6.0450e-04\n",
            "Epoch 67/100\n",
            "56/56 [==============================] - 1s 23ms/step - loss: 8.6058e-04\n",
            "Epoch 68/100\n",
            "56/56 [==============================] - 1s 23ms/step - loss: 4.8426e-04\n",
            "Epoch 69/100\n",
            "56/56 [==============================] - 1s 23ms/step - loss: 7.7615e-04\n",
            "Epoch 70/100\n",
            "56/56 [==============================] - 1s 23ms/step - loss: 5.7803e-04\n",
            "Epoch 71/100\n",
            "56/56 [==============================] - 1s 23ms/step - loss: 6.2329e-04\n",
            "Epoch 72/100\n",
            "56/56 [==============================] - 1s 23ms/step - loss: 5.7113e-04\n",
            "Epoch 73/100\n",
            "56/56 [==============================] - 1s 23ms/step - loss: 6.3405e-04\n",
            "Epoch 74/100\n",
            "56/56 [==============================] - 1s 23ms/step - loss: 5.8964e-04\n",
            "Epoch 75/100\n",
            "56/56 [==============================] - 1s 23ms/step - loss: 6.5221e-04\n",
            "Epoch 76/100\n",
            "56/56 [==============================] - 1s 23ms/step - loss: 4.7849e-04\n",
            "Epoch 77/100\n",
            "56/56 [==============================] - 1s 23ms/step - loss: 5.2068e-04\n",
            "Epoch 78/100\n",
            "56/56 [==============================] - 1s 23ms/step - loss: 4.3749e-04\n",
            "Epoch 79/100\n",
            "56/56 [==============================] - 1s 23ms/step - loss: 5.8175e-04\n",
            "Epoch 80/100\n",
            "56/56 [==============================] - 1s 23ms/step - loss: 4.8495e-04\n",
            "Epoch 81/100\n",
            "56/56 [==============================] - 1s 24ms/step - loss: 5.5231e-04\n",
            "Epoch 82/100\n",
            "56/56 [==============================] - 1s 23ms/step - loss: 4.5877e-04\n",
            "Epoch 83/100\n",
            "56/56 [==============================] - 1s 23ms/step - loss: 4.2069e-04\n",
            "Epoch 84/100\n",
            "56/56 [==============================] - 1s 23ms/step - loss: 5.1927e-04\n",
            "Epoch 85/100\n",
            "56/56 [==============================] - 1s 23ms/step - loss: 4.2306e-04\n",
            "Epoch 86/100\n",
            "56/56 [==============================] - 1s 23ms/step - loss: 4.8209e-04\n",
            "Epoch 87/100\n",
            "56/56 [==============================] - 1s 23ms/step - loss: 4.6038e-04\n",
            "Epoch 88/100\n",
            "56/56 [==============================] - 1s 23ms/step - loss: 3.8475e-04\n",
            "Epoch 89/100\n",
            "56/56 [==============================] - 1s 23ms/step - loss: 5.6189e-04\n",
            "Epoch 90/100\n",
            "56/56 [==============================] - 1s 23ms/step - loss: 4.8726e-04\n",
            "Epoch 91/100\n",
            "56/56 [==============================] - 1s 23ms/step - loss: 4.9714e-04\n",
            "Epoch 92/100\n",
            "56/56 [==============================] - 1s 23ms/step - loss: 5.2709e-04\n",
            "Epoch 93/100\n",
            "56/56 [==============================] - 1s 23ms/step - loss: 4.8395e-04\n",
            "Epoch 94/100\n",
            "56/56 [==============================] - 1s 23ms/step - loss: 4.0532e-04\n",
            "Epoch 95/100\n",
            "56/56 [==============================] - 1s 23ms/step - loss: 5.1986e-04\n",
            "Epoch 96/100\n",
            "56/56 [==============================] - 1s 23ms/step - loss: 4.9076e-04\n",
            "Epoch 97/100\n",
            "56/56 [==============================] - 1s 24ms/step - loss: 5.4567e-04\n",
            "Epoch 98/100\n",
            "56/56 [==============================] - 1s 23ms/step - loss: 4.9514e-04\n",
            "Epoch 99/100\n",
            "56/56 [==============================] - 1s 23ms/step - loss: 4.6891e-04\n",
            "Epoch 100/100\n",
            "56/56 [==============================] - 1s 23ms/step - loss: 5.4331e-04\n"
          ],
          "name": "stdout"
        },
        {
          "output_type": "execute_result",
          "data": {
            "text/plain": [
              "<keras.callbacks.History at 0x7f12d43d2810>"
            ]
          },
          "metadata": {
            "tags": []
          },
          "execution_count": 47
        }
      ]
    },
    {
      "cell_type": "code",
      "metadata": {
        "colab": {
          "base_uri": "https://localhost:8080/"
        },
        "id": "MDait-DhCFzw",
        "outputId": "1cf4338c-ada2-4d76-b842-b3427f00a173"
      },
      "source": [
        "# Getting the predicted price\n",
        "#show_train_test_ratio = 0.8\n",
        "dataset_train = df.iloc[:int(n_rows*train_test_ratio), 1:2]\n",
        "dataset_test = df.iloc[int(n_rows*train_test_ratio):, 1:2]\n",
        "dataset_total = pd.concat((dataset_train, dataset_test), axis = 0)\n",
        "dataset_total['Price'] = dataset_total['Price'].str.replace(',','')\n",
        "inputs = dataset_total[len(dataset_total) - len(dataset_test) - time_series_number:].values\n",
        "print(inputs.shape)\n",
        "inputs = inputs.reshape(-1,1)\n",
        "inputs = sc.transform(inputs)\n",
        "X_test = []\n",
        "for i in range(time_series_number, 100):\n",
        "    X_test.append(inputs[i-time_series_number:i, 0])\n",
        "X_test = np.array(X_test)\n",
        "X_test = np.reshape(X_test, (X_test.shape[0], X_test.shape[1], 1))\n",
        "print(X_test.shape)"
      ],
      "execution_count": null,
      "outputs": [
        {
          "output_type": "stream",
          "text": [
            "(100, 1)\n",
            "(95, 5, 1)\n"
          ],
          "name": "stdout"
        }
      ]
    },
    {
      "cell_type": "code",
      "metadata": {
        "colab": {
          "base_uri": "https://localhost:8080/"
        },
        "id": "5uPSeQHgqu6i",
        "outputId": "4e610403-ba2e-4247-9c10-4b8bb6e19cb1"
      },
      "source": [
        "predicted_stock_price = model.predict(X_test)\n",
        "print(predicted_stock_price.shape)\n",
        "predicted_stock_price = sc.inverse_transform(predicted_stock_price)"
      ],
      "execution_count": null,
      "outputs": [
        {
          "output_type": "stream",
          "text": [
            "WARNING:tensorflow:5 out of the last 13 calls to <function Model.make_predict_function.<locals>.predict_function at 0x7f12d396eb00> triggered tf.function retracing. Tracing is expensive and the excessive number of tracings could be due to (1) creating @tf.function repeatedly in a loop, (2) passing tensors with different shapes, (3) passing Python objects instead of tensors. For (1), please define your @tf.function outside of the loop. For (2), @tf.function has experimental_relax_shapes=True option that relaxes argument shapes that can avoid unnecessary retracing. For (3), please refer to https://www.tensorflow.org/guide/function#controlling_retracing and https://www.tensorflow.org/api_docs/python/tf/function for  more details.\n",
            "(95, 1)\n"
          ],
          "name": "stdout"
        }
      ]
    },
    {
      "cell_type": "code",
      "metadata": {
        "colab": {
          "base_uri": "https://localhost:8080/",
          "height": 472
        },
        "id": "ZvkcjtfR0jD9",
        "outputId": "c204647c-452a-434e-d912-b789f4fbf5e6"
      },
      "source": [
        "# Visualising the results\n",
        "#print(test_set)\n",
        "plt.rcdefaults()\n",
        "plt.size = (15,10)\n",
        "plt.plot(range(0,95),test_set.astype(float) , color = 'red', label = 'Actual ethereum Price')\n",
        "plt.plot(predicted_stock_price, color = 'blue', label = 'Predicted Ethereum Price')\n",
        "plt.title('Ethereum Price Prediction')\n",
        "plt.xlabel('Time')\n",
        "plt.ylabel('Ethereum Price')\n",
        "plt.legend()\n",
        "plt.show()"
      ],
      "execution_count": null,
      "outputs": [
        {
          "output_type": "display_data",
          "data": {
            "image/png": "[encoded data removed]",
            "text/plain": [
              "<Figure size 640x480 with 1 Axes>"
            ]
          },
          "metadata": {
            "tags": []
          }
        }
      ]
    }
  ]
}